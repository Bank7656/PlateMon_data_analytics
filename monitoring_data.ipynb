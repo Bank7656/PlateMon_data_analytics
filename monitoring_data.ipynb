{
 "cells": [
  {
   "attachments": {},
   "cell_type": "markdown",
   "id": "0d001f37",
   "metadata": {},
   "source": [
    "# **Platemon monitoring data analysis**"
   ]
  },
  {
   "cell_type": "code",
   "execution_count": null,
   "id": "e7deeb42",
   "metadata": {},
   "outputs": [],
   "source": [
    "from src.plot import plot_single_bath, plot_all_params, save_individual_run, save_bath, plot_conductivity_fft\n",
    "from src.load_data import load_sheet, clean_sheet_with_label\n",
    "\n",
    "%load_ext autoreload\n",
    "%matplotlib\n",
    "%autoreload 2"
   ]
  },
  {
   "attachments": {},
   "cell_type": "markdown",
   "id": "05bff9ee",
   "metadata": {},
   "source": [
    "# **Load data from Google sheets**"
   ]
  },
  {
   "cell_type": "code",
   "execution_count": null,
   "id": "5be9694f",
   "metadata": {},
   "outputs": [],
   "source": [
    "internal_df, sheet1 = load_sheet(\"Electroplate Experiments Data JUN_JUL\", \"vary_internal_table\")\n",
    "internal_df = clean_sheet_with_label(internal_df)\n",
    "two_side_plate, sheet2 = load_sheet(\"Electroplate Experiments Data JUN_JUL\", \"2 side Experimental Result\")\n",
    "two_side_plate = clean_sheet_with_label(two_side_plate)\n",
    "august_df, sheet3 = load_sheet(\"Electroplating Experiments Data August\", \"Sheet1\")\n",
    "august_df = clean_sheet_with_label(august_df)\n",
    "september_df, sheet4 = load_sheet(\"Electroplating Experiments Data September\", \"Sheet1\")\n",
    "september_df =clean_sheet_with_label(september_df)"
   ]
  },
  {
   "cell_type": "code",
   "execution_count": null,
   "id": "adbfe001",
   "metadata": {},
   "outputs": [],
   "source": [
    "internal_df[internal_df['bath_id']=='Bath_3']"
   ]
  },
  {
   "cell_type": "code",
   "execution_count": null,
   "id": "fab66171",
   "metadata": {},
   "outputs": [],
   "source": [
    "august_df"
   ]
  },
  {
   "cell_type": "code",
   "execution_count": null,
   "id": "b4f29791",
   "metadata": {},
   "outputs": [],
   "source": [
    "import pandas as pd\n",
    "\n",
    "combined_df = pd.concat([internal_df, august_df, september_df])"
   ]
  },
  {
   "cell_type": "code",
   "execution_count": null,
   "id": "acad8d83",
   "metadata": {},
   "outputs": [],
   "source": [
    "combined_df"
   ]
  },
  {
   "cell_type": "code",
   "execution_count": null,
   "id": "225c3a85",
   "metadata": {},
   "outputs": [],
   "source": [
    "internal_df.info(verbose=True)"
   ]
  },
  {
   "cell_type": "code",
   "execution_count": null,
   "id": "cf93f3b2",
   "metadata": {},
   "outputs": [],
   "source": [
    "# two_side_plate.info(verbose=True)"
   ]
  },
  {
   "attachments": {},
   "cell_type": "markdown",
   "id": "4062ce23",
   "metadata": {},
   "source": [
    "## \n",
    "---"
   ]
  },
  {
   "attachments": {},
   "cell_type": "markdown",
   "id": "d9c2e657",
   "metadata": {},
   "source": [
    "# **Parameters constant**\n",
    "\n",
    "Be able to vary limit of y-axis within the \"PARAMS\" dictionary (For \"PARAMETERS\" still fix at 5)"
   ]
  },
  {
   "cell_type": "code",
   "execution_count": null,
   "id": "0c62ad6d",
   "metadata": {},
   "outputs": [],
   "source": []
  },
  {
   "cell_type": "code",
   "execution_count": null,
   "id": "1a153394",
   "metadata": {},
   "outputs": [],
   "source": [
    "PARAMS = {\n",
    "\t# Default P' TJ\n",
    "\t# 'pH': [2, 5],\n",
    "\t# 'voltage': [0, 5],\n",
    "\t# Need to change due to the platinum anode cause lower pH and higher voltage\n",
    "\t'pH': [0, 5],\n",
    "\t'voltage': [0, 6],\n",
    "\t'current': [1, 4],\n",
    "\t# 'conductivity': [48, 70],\n",
    "\t'conductivity': [50, 60],\n",
    "\t'temperature': [45, 54]\n",
    "}"
   ]
  },
  {
   "cell_type": "code",
   "execution_count": null,
   "id": "d727a427",
   "metadata": {},
   "outputs": [],
   "source": []
  },
  {
   "cell_type": "code",
   "execution_count": null,
   "id": "23902d83",
   "metadata": {},
   "outputs": [],
   "source": [
    "# PARAMETERS = ['pH' ,'voltage', 'current', 'conductivity', 'temperature']"
   ]
  },
  {
   "cell_type": "code",
   "execution_count": null,
   "id": "5b872a08",
   "metadata": {},
   "outputs": [],
   "source": [
    "# Y_LIM = [[0, 5], [0, 5], [0, 3], [40, 80], [40, 80]]\n",
    "# OLD_BATH = ['18.1', '18.2', '18.3', '18.4', '18.5', '19.1', '19.2']\n",
    "# for param, y_pos in zip(PARAMETERS, Y_LIM):\n",
    "# \tplot_single_bath(two_side_plate, OLD_BATH, param, y_pos)"
   ]
  },
  {
   "cell_type": "code",
   "execution_count": null,
   "id": "093fa1a5",
   "metadata": {},
   "outputs": [],
   "source": [
    "# for param, y_pos in zip(PARAMETERS, Y_LIM):\n",
    "# \tplot_single_bath(internal_df, full_bath_1, param, y_pos)"
   ]
  },
  {
   "cell_type": "code",
   "execution_count": null,
   "id": "969b247a",
   "metadata": {},
   "outputs": [],
   "source": [
    "# BATH_1 = ['17.1']\n",
    "# BATH_2 = ['18.1', '18.2', '18.3', '18.4', '18.5', '19.1', '19.2']\n",
    "# BATH_3 = ['24.1', '24.2', '24.3', 'JUL_1_4', 'JUL_1_5']\n",
    "# BATH_4 = ['30.1', '30.2', 'JUL_1_1', 'JUL_1_2', 'JUL_1_3']\n",
    "# BATH_5 = ['JUL_2_1', 'JUL_2_2']\n",
    "# BATH_IDS = [BATH_1, BATH_2, BATH_3, BATH_4, BATH_5]\n",
    "\n",
    "# ALL_TWO_PLATE_BATH = BATH_1 + BATH_2 + BATH_3 + BATH_4 + BATH_5\n",
    "# FRESH_BATH = ['17.1', '18.1', '24.1', '30.1', 'JUL_2_1']\n",
    "# SAME_CONDITION = ['17.1', 'JUL_2_1']"
   ]
  },
  {
   "cell_type": "code",
   "execution_count": null,
   "id": "79804731",
   "metadata": {},
   "outputs": [],
   "source": [
    "### SLS variation ###\n",
    "# SLS_PLATE = ['JUL_3_2', 'JUL_3_3', 'JUL_3_4', 'JUL_22_1']\n",
    "# plot_all_params(internal_df, SLS_PLATE, PARAMS)"
   ]
  },
  {
   "cell_type": "code",
   "execution_count": null,
   "id": "48272b76",
   "metadata": {},
   "outputs": [],
   "source": []
  },
  {
   "cell_type": "markdown",
   "id": "2457f3b2",
   "metadata": {},
   "source": [
    "## \n",
    "---"
   ]
  },
  {
   "attachments": {},
   "cell_type": "markdown",
   "id": "4366a013",
   "metadata": {},
   "source": [
    "# Baths monitoring data in real-time\n",
    "\n",
    "- All time series, which were gathered pH, conductivity, temperature, volage, and current from laboratory experiments\n",
    "\n",
    "- Data were pulled from the 'vary_internal_table' in the Google Sheet. \n",
    "\n",
    "- Done record 3 main baths.\n",
    "\n",
    "- We plotting to see how it change during the time passes."
   ]
  },
  {
   "cell_type": "code",
   "execution_count": null,
   "id": "f68a31eb",
   "metadata": {},
   "outputs": [],
   "source": [
    "condition = (internal_df['bath_id'] == 'Bath_1')\n",
    "full_bath_1 = list(internal_df[condition]['run_id'].unique())\n",
    "plot_all_params(internal_df, full_bath_1, PARAMS)"
   ]
  },
  {
   "cell_type": "code",
   "execution_count": null,
   "id": "be064b9a",
   "metadata": {},
   "outputs": [],
   "source": [
    "condition = (internal_df['bath_id'] == 'Bath_2')\n",
    "full_bath_2 = list(internal_df[condition]['run_id'].unique())\n",
    "plot_all_params(internal_df, full_bath_2, PARAMS)"
   ]
  },
  {
   "cell_type": "code",
   "execution_count": null,
   "id": "716739ca",
   "metadata": {},
   "outputs": [],
   "source": [
    "condition = (internal_df['bath_id'] == 'Bath_3')\n",
    "full_bath_3 = list(internal_df[condition]['run_id'].unique())\n",
    "plot_all_params(internal_df, full_bath_3, PARAMS)"
   ]
  },
  {
   "cell_type": "code",
   "execution_count": null,
   "id": "17aa7f76",
   "metadata": {},
   "outputs": [],
   "source": [
    "condition = (internal_df['bath_id'] == 'Bath_4')\n",
    "full_bath_4 = list(internal_df[condition]['run_id'].unique())\n",
    "plot_all_params(internal_df, full_bath_4, PARAMS)"
   ]
  },
  {
   "attachments": {},
   "cell_type": "markdown",
   "id": "50f13f8b",
   "metadata": {},
   "source": [
    "# **Finding trend of current density and agitation rate from 24 July experiment**"
   ]
  },
  {
   "attachments": {},
   "cell_type": "markdown",
   "id": "b4b1a43e",
   "metadata": {},
   "source": [
    "## Comparison the agitation rate [100 rpm, 300 rpm, 600 rpm]"
   ]
  },
  {
   "cell_type": "code",
   "execution_count": null,
   "id": "657690d9",
   "metadata": {},
   "outputs": [],
   "source": [
    "plot_all_params(internal_df, ['JUL_24_1', 'JUL_24_2', 'JUL_24_3'], PARAMS)"
   ]
  },
  {
   "cell_type": "code",
   "execution_count": null,
   "id": "c38bad7c",
   "metadata": {},
   "outputs": [],
   "source": [
    "plot_all_params(internal_df, ['JUL_24_4', 'JUL_24_5', 'JUL_24_6'], PARAMS)"
   ]
  },
  {
   "cell_type": "code",
   "execution_count": null,
   "id": "89406a5f",
   "metadata": {},
   "outputs": [],
   "source": [
    "plot_all_params(internal_df, ['JUL_24_7', 'JUL_24_8', 'JUL_24_9'], PARAMS)"
   ]
  },
  {
   "attachments": {},
   "cell_type": "markdown",
   "id": "f7c3a8c3",
   "metadata": {},
   "source": [
    "## \n",
    "---"
   ]
  },
  {
   "attachments": {},
   "cell_type": "markdown",
   "id": "beeb19eb",
   "metadata": {},
   "source": [
    "## Comparison current density at the same agitation rate"
   ]
  },
  {
   "cell_type": "code",
   "execution_count": null,
   "id": "7e42ae6b",
   "metadata": {},
   "outputs": [],
   "source": [
    "plot_all_params(internal_df, ['JUL_24_3', 'JUL_24_4', 'JUL_24_7'], PARAMS)"
   ]
  },
  {
   "cell_type": "code",
   "execution_count": null,
   "id": "e44a86ef",
   "metadata": {},
   "outputs": [],
   "source": [
    "plot_all_params(combined_df, ['JUL_22_1'], PARAMS)"
   ]
  },
  {
   "cell_type": "code",
   "execution_count": null,
   "id": "13466dc5",
   "metadata": {},
   "outputs": [],
   "source": [
    "plot_all_params(combined_df, ['JUL_22_6'], PARAMS)"
   ]
  },
  {
   "cell_type": "code",
   "execution_count": null,
   "id": "89c04813",
   "metadata": {},
   "outputs": [],
   "source": [
    "plot_all_params(combined_df, ['JUL_22_9'], PARAMS)"
   ]
  },
  {
   "cell_type": "code",
   "execution_count": null,
   "id": "7e03e3f7",
   "metadata": {},
   "outputs": [],
   "source": [
    "plot_all_params(internal_df, ['JUL_24_1', 'JUL_24_5', 'JUL_24_8'], PARAMS)"
   ]
  },
  {
   "cell_type": "code",
   "execution_count": null,
   "id": "2d932909",
   "metadata": {},
   "outputs": [],
   "source": [
    "plot_all_params(internal_df, ['JUL_24_2', 'JUL_24_6', 'JUL_24_9'], PARAMS)"
   ]
  },
  {
   "attachments": {},
   "cell_type": "markdown",
   "id": "05c481c4",
   "metadata": {},
   "source": [
    "##\n",
    "---"
   ]
  },
  {
   "attachments": {},
   "cell_type": "markdown",
   "id": "6582a76c",
   "metadata": {},
   "source": [
    "## Saving Graph"
   ]
  },
  {
   "cell_type": "code",
   "execution_count": null,
   "id": "108bad7c",
   "metadata": {},
   "outputs": [],
   "source": [
    "# Run This for every individual runs\n",
    "# save_individual_run(two_side_plate, PARAMS)"
   ]
  },
  {
   "cell_type": "code",
   "execution_count": null,
   "id": "0c1ce332",
   "metadata": {},
   "outputs": [],
   "source": [
    "graph_df = plot_conductivity_fft(internal_df, \"Bath_3\", ['JUL_22_1', 'JUL_22_2', 'JUL_22_3']) "
   ]
  },
  {
   "cell_type": "code",
   "execution_count": null,
   "id": "8dca6075",
   "metadata": {},
   "outputs": [],
   "source": [
    "graph_df"
   ]
  },
  {
   "cell_type": "code",
   "execution_count": null,
   "id": "eab52118",
   "metadata": {},
   "outputs": [],
   "source": [
    "import matplotlib.pyplot as plt\n",
    "\n",
    "# Plot each of the three fft_vals columns against the DataFrame's index\n",
    "plt.plot(graph_df['freq_JUL_22_1'], graph_df['fft_vals_JUL_22_1'], label='fft_vals_JUL_22_1')\n",
    "plt.plot(graph_df['freq_JUL_22_2'], graph_df['fft_vals_JUL_22_2'], label='fft_vals_JUL_22_2')\n",
    "plt.plot(graph_df['freq_JUL_22_3'], graph_df['fft_vals_JUL_22_3'], label='fft_vals_JUL_22_3')"
   ]
  },
  {
   "cell_type": "code",
   "execution_count": null,
   "id": "b7c76c5e",
   "metadata": {},
   "outputs": [],
   "source": [
    "# Run This for every individual runs\n",
    "save_individual_run(combined_df, PARAMS)"
   ]
  },
  {
   "cell_type": "code",
   "execution_count": null,
   "id": "1ab78e2d",
   "metadata": {},
   "outputs": [],
   "source": [
    "# Run This to plot each baths\n",
    "full_bath_condition = (combined_df['bath_id'] != 'Fresh')\n",
    "bath_number = combined_df[full_bath_condition]['bath_id'].unique()\n",
    "save_bath(combined_df, bath_number, PARAMS)"
   ]
  },
  {
   "attachments": {},
   "cell_type": "markdown",
   "id": "e53d8ffe",
   "metadata": {},
   "source": [
    "##\n",
    "---"
   ]
  },
  {
   "cell_type": "code",
   "execution_count": null,
   "id": "287a4549",
   "metadata": {},
   "outputs": [],
   "source": [
    "specific_condition = combined_df['bath_id'] == 'Bath_3'\n",
    "bath_number = combined_df[specific_condition]['run_id'].unique()\n",
    "bath_number"
   ]
  },
  {
   "cell_type": "code",
   "execution_count": null,
   "id": "646353ab",
   "metadata": {},
   "outputs": [],
   "source": [
    "# Ping request\n",
    "\n",
    "specific_bath = ['JUL_22_1', 'JUL_22_2', 'JUL_22_3', 'JUL_22_4', 'JUL_22_5', 'JUL_22_6', 'JUL_22_7', 'JUL_22_8', 'JUL_22_9', 'JUL_23_1', 'JUL_23_2', 'JUL_23_3', 'JUL_23_4', 'JUL_23_5']\n",
    "\n",
    "plot_all_params(internal_df, specific_bath, PARAMS)"
   ]
  },
  {
   "cell_type": "code",
   "execution_count": null,
   "id": "a6703c35",
   "metadata": {},
   "outputs": [],
   "source": [
    "# Other ping request\n",
    "other_specific_bath = ['JUL_24_1', 'JUL_24_2', 'JUL_24_3', 'JUL_24_4', 'JUL_24_5', 'JUL_24_6', 'JUL_24_7', 'JUL_24_8', 'JUL_24_9', 'JUL_24_10']\n",
    "plot_all_params(internal_df, other_specific_bath, PARAMS)"
   ]
  },
  {
   "cell_type": "code",
   "execution_count": null,
   "id": "98e88e36",
   "metadata": {},
   "outputs": [],
   "source": [
    "# import seaborn as sns\n",
    "\n",
    "# # sns.histplot(data = internal_df['deposition_rate'])\n",
    "# sns.histplot(internal_df['deposition_rate'].unique(), bins=55)"
   ]
  }
 ],
 "metadata": {
  "kernelspec": {
   "display_name": ".venv",
   "language": "python",
   "name": "python3"
  },
  "language_info": {
   "codemirror_mode": {
    "name": "ipython",
    "version": 3
   },
   "file_extension": ".py",
   "mimetype": "text/x-python",
   "name": "python",
   "nbconvert_exporter": "python",
   "pygments_lexer": "ipython3",
   "version": "3.13.5"
  }
 },
 "nbformat": 4,
 "nbformat_minor": 5
}
